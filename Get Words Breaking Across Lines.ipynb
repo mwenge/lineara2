{
 "cells": [
  {
   "cell_type": "code",
   "execution_count": 26,
   "metadata": {},
   "outputs": [],
   "source": [
    "import json\n",
    "from functools import reduce\n",
    "\n",
    "json_file = open('supplement.json')\n",
    "inscriptions = json.load(json_file)\n",
    "supplements = { inscription[\"name\"]: inscription[\"tabulatedWords\"] for inscription in inscriptions }\n",
    "\n",
    "b_es = [[(s[\"name\"], l[0][2],l[-1][2]) \n",
    "        for l in s[\"tabulation\"] if s[\"tabulation\"] and l] \n",
    "        for s in inscriptions]\n",
    "\n",
    "json_file = open('150-inscriptions.js')\n",
    "inscriptions = json.load(json_file)\n",
    "tablets = { inscription[\"name\"]: inscription[\"support\"]\n",
    "            for inscription in inscriptions[\"inscriptions\"]\n",
    "            if inscription[\"support\"] == \"Tablet\"\n",
    "           }\n",
    "scribes = { inscription[\"name\"]: inscription[\"scribe\"]\n",
    "            for inscription in inscriptions[\"inscriptions\"]\n",
    "           }\n"
   ]
  },
  {
   "cell_type": "code",
   "execution_count": 25,
   "metadata": {},
   "outputs": [
    {
     "data": {
      "text/plain": [
       "[('HT21', '𐄐𐄇'),\n",
       " ('HT37', '𐄐𐄋'),\n",
       " ('HT36', '𐄑𐄓𐄊'),\n",
       " ('HT123+124a', '𐄘𐄉'),\n",
       " ('HT1', '𐄙𐄘𐄍'),\n",
       " ('HT102', '𐄡𐄖𐄌'),\n",
       " ('HT120', '𐘀𐘉𐘪'),\n",
       " ('HT85a', '𐘀𐘤𐙈'),\n",
       " ('HT123+124a', '𐘀𐘹'),\n",
       " ('HT104', '𐘀𐙂𐘈𐘗𐘠'),\n",
       " ('TY2', '𐘂𐘀𐘘'),\n",
       " ('HT104', '𐘂𐘀𐘲𐘠'),\n",
       " ('HT115a', '𐘅𐘐𐘗𐘻𐘅'),\n",
       " ('HT16', '𐘆𐘅𐘉'),\n",
       " ('HT1', '𐘆𐘆𐘍𐘥'),\n",
       " ('HT98a', '𐘆𐘙𐘆𐘅'),\n",
       " ('HT93a', '𐘆𐘭𐘅'),\n",
       " ('HT96a', '𐘇𐘂𐘴𐘗'),\n",
       " ('ARKH2', '𐘇𐘤𐘀𐘄𐘚'),\n",
       " ('HT11a', '𐘇𐘲𐘱'),\n",
       " ('KH5', '𐘇𐘴𐘉𐘀'),\n",
       " ('HT28b', '𐘉𐘻𐘅𐘤'),\n",
       " ('HT117a', '𐘉𐘻𐘅𐘤'),\n",
       " ('PE1', '𐘉𐘾𐘙𐘇𐘈𐘤𐘅'),\n",
       " ('HT93a', '𐘌𐘌𐘘'),\n",
       " ('HT118', '𐘌𐘌𐘘'),\n",
       " ('HT122b', '𐘌𐘌𐘘'),\n",
       " ('HT96b', '𐘌𐙈𐘴𐘙'),\n",
       " ('HT8b', '𐘌𐙠𐘚'),\n",
       " ('TY3a', '𐘗𐘸'),\n",
       " ('HT131a', '𐘚𐘌𐙈'),\n",
       " ('HT25b', '𐘚𐘠'),\n",
       " ('HT13', '𐘚𐘬𐘗𐘤'),\n",
       " ('HT104', '𐘚𐘬𐘠'),\n",
       " ('HT93a', '𐘚𐛭'),\n",
       " ('HT114a', '𐘞𐘽'),\n",
       " ('HT90', '𐘤𐘘𐙁𐘭𐘷'),\n",
       " ('HT116a', '𐘤𐘸𐘗'),\n",
       " ('HT96a', '𐘤𐘻𐘳'),\n",
       " ('HT115a', '𐘭𐘳𐙁𐘯𐘣'),\n",
       " ('HT85b', '𐘮𐘬𐘝𐘻'),\n",
       " ('HT8a', '𐘰𐘾𐘴𐘠'),\n",
       " ('HT9a', '𐘳𐘚𐙌'),\n",
       " ('HT10b', '𐘳𐘭𐘅'),\n",
       " ('PH2', '𐘴𐘵𐘆𐘸'),\n",
       " ('HT123+124a', '𐘸𐘁'),\n",
       " ('HT93a', '𐘸𐘆𐘝'),\n",
       " ('HT120', '𐘸𐘙𐘳𐘅'),\n",
       " ('HT85b', '𐘸𐘙𐘷'),\n",
       " ('HT27a', '𐘸𐙠'),\n",
       " ('HT117a', '𐘹𐘶𐙁'),\n",
       " ('HT117a', '𐘺𐘞𐘚𐘠'),\n",
       " ('HT117a', '𐘻𐘘𐘳𐘴𐘙'),\n",
       " ('HT95b', '𐘻𐘯𐘃'),\n",
       " ('HT26a', '𐘻𐘸𐘈𐘅'),\n",
       " ('HT6a', '𐘾𐘂𐘿'),\n",
       " ('HT26b', '𐘾𐘉𐙀𐘝'),\n",
       " ('HT20', '𐘿𐙂𐘙'),\n",
       " ('ARKH2', '𐙀𐙕𐘈𐘦𐘐𐙈'),\n",
       " ('HT6b', '𐙁𐘭𐘙𐘚'),\n",
       " ('HT87', '𐙁𐘾𐘭𐘃'),\n",
       " ('HT102', '𐙁𐙀'),\n",
       " ('HT86a', '𐙂𐘝𐘲'),\n",
       " ('HT86b', '𐙂𐘝𐘲'),\n",
       " ('HT47a', '𐙂𐘰𐘅𐘹'),\n",
       " ('HT49a', '𐙂𐘰𐘯'),\n",
       " ('HT117a', '𐙂𐘴𐘕'),\n",
       " ('HT20', '𐙂𐙁𐘶'),\n",
       " ('TY2', '𐙝𐘭𐘮𐘶'),\n",
       " ('HT31', '𐚰𐘾𐘁𐘰'),\n",
       " ('HT115a', '𐝂𐝂𐝂𐝂'),\n",
       " ('KH11', '𐝇𐝉')]"
      ]
     },
     "execution_count": 25,
     "metadata": {},
     "output_type": "execute_result"
    }
   ],
   "source": [
    "# Get all words that break across lines.\n",
    "word_breaks = []\n",
    "for b_e in b_es:\n",
    "    ws = set([b_e[i][1] for i,c in enumerate(b_e[1:]) if b_e[i][1] == b_e[i-1][2]])\n",
    "    if not ws:\n",
    "        continue\n",
    "    name = b_e[0][0]\n",
    "    word_breaks += [(name, supplements[name][w]) for w in ws]\n",
    "tablet_word_breaks = [(t,w) for t,w in word_breaks if t in tablets]\n",
    "sorted(tablet_word_breaks, key = lambda x: x[1])"
   ]
  },
  {
   "cell_type": "code",
   "execution_count": null,
   "metadata": {},
   "outputs": [],
   "source": [
    "excludes = [\n",
    "    'IOZa9','IOZa2','TLZa1','KNZc6','TY2'\n",
    "]\n",
    "tuple_excludes = [('HT115a', '𐝂𐝂𐝂𐝂')]"
   ]
  }
 ],
 "metadata": {
  "kernelspec": {
   "display_name": "Python 3",
   "language": "python",
   "name": "python3"
  },
  "language_info": {
   "codemirror_mode": {
    "name": "ipython",
    "version": 3
   },
   "file_extension": ".py",
   "mimetype": "text/x-python",
   "name": "python",
   "nbconvert_exporter": "python",
   "pygments_lexer": "ipython3",
   "version": "3.8.10"
  }
 },
 "nbformat": 4,
 "nbformat_minor": 4
}
