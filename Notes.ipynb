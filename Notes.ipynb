{
 "cells": [
  {
   "cell_type": "code",
   "execution_count": null,
   "metadata": {},
   "outputs": [],
   "source": [
    "# Extract the dimensions info from our ocr'd copy of GORILA\n",
    "\n",
    "idf = open('gorila-ocr.txt')\n",
    "of = open('dimensions-gorila-ocr.txt', 'w')\n",
    "section = \"\"\n",
    "capture = False\n",
    "for l in idf.readlines():\n",
    "    l = l.replace('\\n', ' ')\n",
    "    if l[:6] == \"Texts:\":\n",
    "        capture = True\n",
    "        continue\n",
    "    if l[:8] == \"\\\"bounds:\":\n",
    "        capture = False\n",
    "        has_dimension = any([s in section for s in ['cm','Cm', ' x ']])\n",
    "        if has_dimension:\n",
    "            of.write(section + '\\n')\n",
    "        section = \"\"\n",
    "        continue\n",
    "    if not capture:\n",
    "        continue\n",
    "    section += l\n",
    "of.write(section + '\\n')\n"
   ]
  }
 ],
 "metadata": {
  "kernelspec": {
   "display_name": "Python 3",
   "language": "python",
   "name": "python3"
  },
  "language_info": {
   "codemirror_mode": {
    "name": "ipython",
    "version": 3
   },
   "file_extension": ".py",
   "mimetype": "text/x-python",
   "name": "python",
   "nbconvert_exporter": "python",
   "pygments_lexer": "ipython3",
   "version": "3.8.10"
  }
 },
 "nbformat": 4,
 "nbformat_minor": 4
}
